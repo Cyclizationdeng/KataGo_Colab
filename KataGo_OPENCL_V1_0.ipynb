{
  "nbformat": 4,
  "nbformat_minor": 0,
  "metadata": {
    "colab": {
      "name": "KataGo_OPENCL_V1.0.ipynb",
      "provenance": [],
      "collapsed_sections": [],
      "include_colab_link": true
    },
    "kernelspec": {
      "name": "python3",
      "display_name": "Python 3"
    },
    "accelerator": "GPU"
  },
  "cells": [
    {
      "cell_type": "markdown",
      "metadata": {
        "id": "view-in-github",
        "colab_type": "text"
      },
      "source": [
        "<a href=\"https://colab.research.google.com/github/JBX2010/KataGo_Colab/blob/master/KataGo_OPENCL_V1_0.ipynb\" target=\"_parent\"><img src=\"https://colab.research.google.com/assets/colab-badge.svg\" alt=\"Open In Colab\"/></a>"
      ]
    },
    {
      "cell_type": "markdown",
      "metadata": {
        "id": "BrEdpicXj2sj",
        "colab_type": "text"
      },
      "source": [
        "Check what GPU is allocated by Colab"
      ]
    },
    {
      "cell_type": "code",
      "metadata": {
        "id": "Gx6FgxfDbRmg",
        "colab_type": "code",
        "colab": {}
      },
      "source": [
        "!nvidia-smi"
      ],
      "execution_count": null,
      "outputs": []
    },
    {
      "cell_type": "markdown",
      "metadata": {
        "id": "NX8CuOAGkF2F",
        "colab_type": "text"
      },
      "source": [
        "Building KataGo and gtp2ogs. Please switch CUDA/OPENCL depending on the GPU allocated. Search -DUSE_BACKEND=OPENCL and update accordingly. For T4 recommend to use CUDA. For P100, P4 and K80 recommend to use OPENCL.  "
      ]
    },
    {
      "cell_type": "code",
      "metadata": {
        "id": "cr_mVMzXi4KM",
        "colab_type": "code",
        "colab": {}
      },
      "source": [
        "%cd /content\n",
        "!apt install sudo\n",
        "!sudo apt remove cmake\n",
        "!sudo apt purge --auto-remove cmake\n",
        "!mkdir ~/temp\n",
        "%cd ~/temp\n",
        "!wget https://cmake.org/files/v3.12/cmake-3.12.3-Linux-x86_64.sh\n",
        "!sudo mkdir /opt/cmake\n",
        "!sudo sh cmake-3.12.3-Linux-x86_64.sh --prefix=/opt/cmake --skip-license\n",
        "!sudo rm -R /usr/local/bin/cmake\n",
        "!sudo ln -s /opt/cmake/bin/cmake /usr/local/bin/cmake\n",
        "%cd /content\n",
        "!apt-get update\n",
        "!add-apt-repository -y ppa:ubuntu-toolchain-r/test\n",
        "!apt-get -y install gcc-8 g++-8 zlib1g-dev libzip-dev libboost-filesystem-dev libgoogle-perftools-dev\n",
        "!update-alternatives --install /usr/bin/gcc gcc /usr/bin/gcc-8 40 --slave /usr/bin/g++ g++ /usr/bin/g++-8 \n",
        "!apt-get install curl\n",
        "!curl -sL https://deb.nodesource.com/setup_13.x |  -E bash -\n",
        "!apt-get install -y nodejs\n",
        "!npm install -g gtp2ogs\n",
        "%cd /content\n",
        "!mkdir testtt \n",
        "%cd /content/testtt\n",
        "!git clone -b devel https://github.com/online-go/gtp2ogs \n",
        "%cd /content/testtt/gtp2ogs \n",
        "!git branch \n",
        "!sudo cp -rf * /usr/lib/node_modules/gtp2ogs/\n",
        "%cd /usr/lib/node_modules/gtp2ogs/ \n",
        "!npm install\n",
        "%cd /content\n",
        "!git clone https://github.com/lightvector/KataGo.git \n",
        "!cd /content/KataGo/cpp/ && cmake . -DBUILD_MCTS=1 -DUSE_BACKEND=OPENCL && make \n",
        "!cd /content/KataGo/cpp/ && wget https://github.com/lightvector/KataGo/releases/download/v1.4.5/g170-b40c256x2-s5095420928-d1229425124.bin.gz\n",
        "!cd /content/KataGo/cpp/ && gunzip g170-b40c256x2-s5095420928-d1229425124.bin.gz\n",
        "!cd /content/KataGo/cpp/ && mv g170-b40c256x2-s5095420928-d1229425124.bin 40e.bin\n",
        "!cd /content/KataGo/cpp/ && wget http://res.yikeweiqi.com/yklinker/yk-linker.zip\n",
        "!cd /content/KataGo/cpp/ && unzip yk-linker.zip\n"
      ],
      "execution_count": null,
      "outputs": []
    },
    {
      "cell_type": "markdown",
      "metadata": {
        "id": "p6UExWZW-aKM",
        "colab_type": "text"
      },
      "source": [
        "Run Bot on OGS - Online-go.com. Please update your ogsBotName and your ogsBotAPIKey. Please upload gtp_example.cfg to /KataGo/cpp/ folder first. Click the folder icon on left side.\n"
      ]
    },
    {
      "cell_type": "code",
      "metadata": {
        "id": "9H4VCnqEnmzA",
        "colab_type": "code",
        "colab": {}
      },
      "source": [
        "!nodejs /usr/lib/node_modules/gtp2ogs/gtp2ogs.js --username <ogsBotName> --apikey <ogsBotApikey> --ogspv KataGo  --persist   --maxconnectedgames 4  --noautohandicapranked --maxhandicap 4 --speeds live   -- /content/KataGo/cpp/katago gtp -model /content/KataGo/cpp/40e.bin -config /content/KataGo/cpp/gtp_example.cfg"
      ],
      "execution_count": null,
      "outputs": []
    },
    {
      "cell_type": "markdown",
      "metadata": {
        "id": "7DMKAcySjjNi",
        "colab_type": "text"
      },
      "source": [
        "Run Bot on yikeweiqi.com. Please update config.json with your yikeweiqi.com account name and password and upload to folder /KataGo/cpp/yk-linker/ first.Click the folder icon on left side."
      ]
    },
    {
      "cell_type": "code",
      "metadata": {
        "id": "mFveOuy9qwtL",
        "colab_type": "code",
        "colab": {}
      },
      "source": [
        "!cd /content/KataGo/cpp/yk-linker/ && ./run_linux.sh"
      ],
      "execution_count": null,
      "outputs": []
    },
    {
      "cell_type": "markdown",
      "metadata": {
        "id": "4AbKi-YKjoVQ",
        "colab_type": "text"
      },
      "source": [
        "Upload pre-tuned P100 OPENCL tunning file can save sometime on OPENCL Tunning"
      ]
    },
    {
      "cell_type": "code",
      "metadata": {
        "id": "xEgqYQ4SQxzp",
        "colab_type": "code",
        "colab": {
          "base_uri": "https://localhost:8080/",
          "height": 52
        },
        "outputId": "39d2a4d6-513a-45b4-d9af-340941150dbf"
      },
      "source": [
        "%cd /root/\n",
        "!mkdir .katago \n",
        "%cd /root/.katago/ \n",
        "!mkdir opencltuning "
      ],
      "execution_count": null,
      "outputs": [
        {
          "output_type": "stream",
          "text": [
            "/root\n",
            "/root/.katago\n"
          ],
          "name": "stdout"
        }
      ]
    },
    {
      "cell_type": "code",
      "metadata": {
        "id": "FaDN_SG6DlIc",
        "colab_type": "code",
        "colab": {}
      },
      "source": [
        "!mv /content/KataGo/cpp/tune6_gpuTeslaP100PCIE16GB_x19_y19_c256_mv8.txt  /root/.katago/opencltuning/tune6_gpuTeslaP100PCIE16GB_x19_y19_c256_mv8.txt"
      ],
      "execution_count": null,
      "outputs": []
    },
    {
      "cell_type": "markdown",
      "metadata": {
        "id": "10rM1Mzg6AgC",
        "colab_type": "text"
      },
      "source": [
        "Kata BenchMark tunning/testing"
      ]
    },
    {
      "cell_type": "code",
      "metadata": {
        "id": "rpYpIrk0yfX9",
        "colab_type": "code",
        "colab": {}
      },
      "source": [
        "!cd /content/KataGo/cpp/ && ./katago benchmark  -v 3200 -tune -model 40e.bin -config gtp_example.cfg"
      ],
      "execution_count": null,
      "outputs": []
    },
    {
      "cell_type": "code",
      "metadata": {
        "id": "OSE8Wqo-tqeV",
        "colab_type": "code",
        "colab": {}
      },
      "source": [
        "!nvidia-smi"
      ],
      "execution_count": null,
      "outputs": []
    },
    {
      "cell_type": "code",
      "metadata": {
        "id": "355gcXniwUS9",
        "colab_type": "code",
        "colab": {}
      },
      "source": [
        "!nvcc --version"
      ],
      "execution_count": null,
      "outputs": []
    },
    {
      "cell_type": "code",
      "metadata": {
        "id": "U2yxhc61wgFq",
        "colab_type": "code",
        "colab": {
          "base_uri": "https://localhost:8080/",
          "height": 73
        },
        "outputId": "4a08a7ad-a26b-44c4-ad4c-c4d463cbd618"
      },
      "source": [
        "!cmake --version"
      ],
      "execution_count": null,
      "outputs": [
        {
          "output_type": "stream",
          "text": [
            "cmake version 3.12.3\n",
            "\n",
            "CMake suite maintained and supported by Kitware (kitware.com/cmake).\n"
          ],
          "name": "stdout"
        }
      ]
    },
    {
      "cell_type": "code",
      "metadata": {
        "id": "ylQy6b7J1Ssj",
        "colab_type": "code",
        "colab": {
          "base_uri": "https://localhost:8080/",
          "height": 108
        },
        "outputId": "165dc72b-a831-4527-d23f-7a58e83ba3b5"
      },
      "source": [
        "!gcc --version"
      ],
      "execution_count": null,
      "outputs": [
        {
          "output_type": "stream",
          "text": [
            "gcc (Ubuntu 7.4.0-1ubuntu1~18.04.1) 7.4.0\n",
            "Copyright (C) 2017 Free Software Foundation, Inc.\n",
            "This is free software; see the source for copying conditions.  There is NO\n",
            "warranty; not even for MERCHANTABILITY or FITNESS FOR A PARTICULAR PURPOSE.\n",
            "\n"
          ],
          "name": "stdout"
        }
      ]
    },
    {
      "cell_type": "code",
      "metadata": {
        "id": "YN3CYl2lw-NR",
        "colab_type": "code",
        "colab": {}
      },
      "source": [
        "!python3 -c 'import tensorflow as tf; print(tf.__version__)'  "
      ],
      "execution_count": null,
      "outputs": []
    },
    {
      "cell_type": "code",
      "metadata": {
        "id": "07CTWdtMxEwD",
        "colab_type": "code",
        "colab": {
          "base_uri": "https://localhost:8080/",
          "height": 139
        },
        "outputId": "24c599cf-f415-4a00-e153-82dc7b9f3efc"
      },
      "source": [
        "!cat /usr/include/cudnn.h | grep CUDNN_MAJOR -A 2"
      ],
      "execution_count": null,
      "outputs": [
        {
          "output_type": "stream",
          "text": [
            "#define CUDNN_MAJOR 7\n",
            "#define CUDNN_MINOR 6\n",
            "#define CUDNN_PATCHLEVEL 5\n",
            "--\n",
            "#define CUDNN_VERSION (CUDNN_MAJOR * 1000 + CUDNN_MINOR * 100 + CUDNN_PATCHLEVEL)\n",
            "\n",
            "#include \"driver_types.h\"\n"
          ],
          "name": "stdout"
        }
      ]
    },
    {
      "cell_type": "code",
      "metadata": {
        "id": "l0ud5gnfeAVZ",
        "colab_type": "code",
        "colab": {}
      },
      "source": [
        "!cat /proc/cpuinfo"
      ],
      "execution_count": null,
      "outputs": []
    },
    {
      "cell_type": "code",
      "metadata": {
        "id": "rIPG1BXeeB_R",
        "colab_type": "code",
        "colab": {}
      },
      "source": [
        "!sudo -i"
      ],
      "execution_count": null,
      "outputs": []
    }
  ]
}